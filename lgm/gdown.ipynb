{
 "cells": [
  {
   "cell_type": "markdown",
   "metadata": {},
   "source": [
    "https://github.com/wkentaro/gdown"
   ]
  },
  {
   "cell_type": "markdown",
   "metadata": {},
   "source": [
    "just use command line with --fuzzy setting"
   ]
  },
  {
   "cell_type": "code",
   "execution_count": 1,
   "metadata": {},
   "outputs": [],
   "source": [
    "import gdown\n",
    "\n",
    "# # a file\n",
    "# url = \"https://drive.google.com/uc?id=1l_5RK28JRL19wpT22B-DY9We3TVXnnQQ\"\n",
    "# output = \"fcn8s_from_caffe.npz\"\n",
    "# gdown.download(url, output, quiet=False)\n",
    "\n",
    "# # same as the above, but with the file ID\n",
    "# id = \"0B9P1L--7Wd2vNm9zMTJWOGxobkU\"\n",
    "# gdown.download(id=id, output=output, quiet=False)\n",
    "\n",
    "# # same as the above, and you can copy-and-paste a URL from Google Drive with fuzzy=True\n",
    "# url = \"https://drive.google.com/file/d/0B9P1L--7Wd2vNm9zMTJWOGxobkU/view?usp=sharing\"\n",
    "# gdown.download(url=url, output=output, quiet=False, fuzzy=True)\n",
    "\n",
    "# # cached download with identity check via MD5\n",
    "# md5 = \"fa837a88f0c40c513d975104edf3da17\"\n",
    "# gdown.cached_download(url, output, md5=md5, postprocess=gdown.extractall)\n",
    "\n",
    "# # a folder\n",
    "# url = \"https://drive.google.com/drive/folders/15uNXeRBIhVvZJIhL4yTw4IsStMhUaaxl\"\n",
    "# gdown.download_folder(url, quiet=True, use_cookies=False)\n",
    "\n",
    "# # same as the above, but with the folder ID\n",
    "# id = \"15uNXeRBIhVvZJIhL4yTw4IsStMhUaaxl\"\n",
    "# gdown.download_folder(id=id, quiet=True, use_cookies=False)"
   ]
  },
  {
   "cell_type": "code",
   "execution_count": 15,
   "metadata": {},
   "outputs": [],
   "source": [
    "# %%time\n",
    "# # a folder\n",
    "# url = \"https://drive.google.com/drive/folders/190zKkwCQoqIMnoI8w88z0V2D32qT-bZx?usp=sharing\"\n",
    "# gdown.download_folder(url, quiet=True, use_cookies=False)"
   ]
  },
  {
   "cell_type": "code",
   "execution_count": 14,
   "metadata": {},
   "outputs": [],
   "source": [
    "# %%time\n",
    "# # a file\n",
    "# url = \"https://drive.google.com/file/d/1oE2bChOBmZKkBCjOXE53ZTUH_BqGG1bD\"\n",
    "# output = \"LGMR_SIC_0-4ka_19-23ka.nc\"\n",
    "# gdown.download(url, output, quiet=False, fuzzy=True)\n",
    "# print('done')"
   ]
  },
  {
   "cell_type": "code",
   "execution_count": null,
   "metadata": {},
   "outputs": [],
   "source": []
  }
 ],
 "metadata": {
  "kernelspec": {
   "display_name": "Python 3",
   "language": "python",
   "name": "python3"
  },
  "language_info": {
   "codemirror_mode": {
    "name": "ipython",
    "version": 3
   },
   "file_extension": ".py",
   "mimetype": "text/x-python",
   "name": "python",
   "nbconvert_exporter": "python",
   "pygments_lexer": "ipython3",
   "version": "3.7.3"
  }
 },
 "nbformat": 4,
 "nbformat_minor": 4
}
